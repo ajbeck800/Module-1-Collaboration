{
 "cells": [
  {
   "cell_type": "code",
   "execution_count": 18,
   "id": "d18c84c7-7e74-49b4-ba19-05489f327a31",
   "metadata": {},
   "outputs": [
    {
     "name": "stdout",
     "output_type": "stream",
     "text": [
      "3600\n",
      "3600\n",
      "86400\n",
      "86400\n",
      "24.0\n",
      "24\n"
     ]
    }
   ],
   "source": [
    "'''\n",
    "Complete sections 3.1 through 3.6 utilizing your Jupyter Notebook. Make sure both answer the prompts(if given) and complete the Python interactive\n",
    "interpreter piece for each question. You can do this in Jupyter notebooks by inserting code to complete the interactive interpreter piece and adding\n",
    "markdown to answer the prompts (if given) for each question.\n",
    "'''\n",
    "\n",
    "'''\n",
    "3.1: How many seconds are in an hour? Use the interactive interpreter as a calculator and multiply the number of seconds in a minute (60) by the number\n",
    "of minutes in an hour (also 60).\n",
    "'''\n",
    "#There are 3600 seconds in an hour.\n",
    "seconds_per_minute = 60\n",
    "minutes_per_hour = 60\n",
    "a = seconds_per_minute * minutes_per_hour\n",
    "print(a)\n",
    "\n",
    "'''\n",
    "3.2: Assign the result from the previous task (seconds in an hour) to a variable called seconds_per_hour.\n",
    "'''\n",
    "seconds_per_hour = a\n",
    "print(seconds_per_hour)\n",
    "\n",
    "'''\n",
    "3.3: How many seconds are in a day? Use your seconds_per_hour variable.\n",
    "'''\n",
    "#There are 86400 seconds in a day.\n",
    "hours_per_day = 24\n",
    "b = seconds_per_hour * hours_per_day\n",
    "print(b)\n",
    "\n",
    "'''\n",
    "3.4: Calculate seconds per day again, but this time save the result in a variable called seconds_per_day.\n",
    "'''\n",
    "seconds_per_day = seconds_per_hour * hours_per_day\n",
    "print(seconds_per_day)\n",
    "\n",
    "'''\n",
    "3.5: Divide seconds_per_day by seconds_per_hour. Use floating-point (/) division.\n",
    "'''\n",
    "c = seconds_per_day / seconds_per_hour\n",
    "print(c)\n",
    "\n",
    "'''\n",
    "3.6: Divide seconds_per_day by seconds_per_hour, using integer (//) division. Did this number agree with the floating-point value from the previous\n",
    "question, aside from the final .0?\n",
    "'''\n",
    "d = seconds_per_day // seconds_per_hour\n",
    "print(d)\n",
    "#Aside from the final .0, this number agrees with the floating-point value from the previous question."
   ]
  }
 ],
 "metadata": {
  "kernelspec": {
   "display_name": "Python [conda env:base] *",
   "language": "python",
   "name": "conda-base-py"
  },
  "language_info": {
   "codemirror_mode": {
    "name": "ipython",
    "version": 3
   },
   "file_extension": ".py",
   "mimetype": "text/x-python",
   "name": "python",
   "nbconvert_exporter": "python",
   "pygments_lexer": "ipython3",
   "version": "3.12.7"
  }
 },
 "nbformat": 4,
 "nbformat_minor": 5
}
