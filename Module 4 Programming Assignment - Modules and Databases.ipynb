{
 "cells": [
  {
   "cell_type": "code",
   "execution_count": 9,
   "id": "c2de3886-1102-43eb-bcdd-5cea46590a77",
   "metadata": {},
   "outputs": [],
   "source": [
    "'''\n",
    "11.1 Create a file called zoo.py. In it, define a function called hours() that prints the string 'Open 9-5 daily'. Then, use the interactive interpreter\n",
    "to import the zoo module and call its hours() function.\n",
    "'''\n",
    "import zoo\n",
    "zoo.hours()\n",
    "\n",
    "'''\n",
    "11.2 In the interactive interpreter, import the zoo module as menagerie and call its hours() function.\n",
    "'''\n",
    "import zoo as menagerie\n",
    "menagerie.hours()\n",
    "\n",
    "'''\n",
    "16.3 Create a CSV file called books2.csv by using these lines:\n",
    "title,author,year\n",
    "The Weirdstone of Brisingamen,Alan Garner,1960\n",
    "Perdido Street Station,China Miéville,2000\n",
    "Thud!,Terry Pratchett,2005\n",
    "The Spellman Files,Lisa Lutz,2007\n",
    "Small Gods,Terry Pratchett,1992\n",
    "'''\n",
    "import csv\n",
    "\n",
    "with open('books2.csv', 'w', newline='') as file:\n",
    "    book = csv.writer(file)\n",
    "    details = [\"title\", \"author\", \"year\"]\n",
    "\n",
    "    book.writerow(details)\n",
    "    book.writerow([\"The Weirdstone of Brisingamen\", \"Alan Garner\", \"1960\"])\n",
    "    book.writerow([\"Perdido Street Station\", \"China Miéville\", \"2000\"])\n",
    "    book.writerow([\"Thud!\", \"Terry Pratchett\", \"2005\"])\n",
    "    book.writerow([\"The Spellman Files\", \"Lisa Lutz\", \"2007\"])\n",
    "    book.writerow([\"Small Gods\", \"Terry Pratchett\", \"1992\"])"
   ]
  }
 ],
 "metadata": {
  "kernelspec": {
   "display_name": "Python [conda env:base] *",
   "language": "python",
   "name": "conda-base-py"
  },
  "language_info": {
   "codemirror_mode": {
    "name": "ipython",
    "version": 3
   },
   "file_extension": ".py",
   "mimetype": "text/x-python",
   "name": "python",
   "nbconvert_exporter": "python",
   "pygments_lexer": "ipython3",
   "version": "3.12.7"
  }
 },
 "nbformat": 4,
 "nbformat_minor": 5
}
