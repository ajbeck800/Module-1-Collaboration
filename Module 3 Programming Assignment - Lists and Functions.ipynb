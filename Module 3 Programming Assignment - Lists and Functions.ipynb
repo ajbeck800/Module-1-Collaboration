{
 "cells": [
  {
   "cell_type": "code",
   "execution_count": 31,
   "id": "a06290ce-2bed-493c-a1df-e86832ad0565",
   "metadata": {},
   "outputs": [
    {
     "name": "stdout",
     "output_type": "stream",
     "text": [
      "('mozzarella', 'cinderella', 'salmonella')\n",
      "('mozzarella', 'Cinderella', 'salmonella')\n",
      "('MOZZARELLA', 'cinderella', 'salmonella')\n",
      "('mozzarella', 'cinderella')\n",
      "5\n"
     ]
    }
   ],
   "source": [
    "'''\n",
    "7.4 Make a list called things with these three strings as elements: \"mozzarella\", \"cinderella\", \"salmonella\".\n",
    "'''\n",
    "things = 'mozzarella', 'cinderella', 'salmonella'\n",
    "print(things)\n",
    "\n",
    "'''\n",
    "7.5 Capitalize the element in things that refers to a person and then print the list. Did it change the element in the list?\n",
    "'''\n",
    "things = 'mozzarella', 'Cinderella', 'salmonella'\n",
    "print(things)\n",
    "#Changing cinderella to Cinderella did change the elements in the list because now Cinderella prints capitalized\n",
    "\n",
    "'''\n",
    "7.6 Make the cheesy element of things all uppercase and then print the list.\n",
    "'''\n",
    "things = 'MOZZARELLA', 'cinderella', 'salmonella'\n",
    "print(things)\n",
    "\n",
    "'''\n",
    "7.7 Delete the disease element from things, collect your Nobel Prize, and print the list.\n",
    "'''\n",
    "things = 'mozzarella', 'cinderella'\n",
    "print(things)\n",
    "\n",
    "'''\n",
    "9.1 Define a function called good() that returns the following list: ['Harry', 'Ron', 'Hermione'].\n",
    "'''\n",
    "def good():\n",
    "    return ['Harry', 'Ron', 'Hermione']\n",
    "\n",
    "'''\n",
    "9.2 Define a generator function called get_odds() that returns the odd numbers from range(10). Use a for loop to find and print the third value returned.\n",
    "'''\n",
    "def get_odds():\n",
    "    return [number for number in range(10) if number % 2 == 1]\n",
    "\n",
    "odd_nums = get_odds()\n",
    "\n",
    "for i in range(len(odd_nums)):\n",
    "    if i == 2:\n",
    "        third_num = odd_nums[i]\n",
    "        print(third_num)"
   ]
  }
 ],
 "metadata": {
  "kernelspec": {
   "display_name": "Python [conda env:base] *",
   "language": "python",
   "name": "conda-base-py"
  },
  "language_info": {
   "codemirror_mode": {
    "name": "ipython",
    "version": 3
   },
   "file_extension": ".py",
   "mimetype": "text/x-python",
   "name": "python",
   "nbconvert_exporter": "python",
   "pygments_lexer": "ipython3",
   "version": "3.12.7"
  }
 },
 "nbformat": 4,
 "nbformat_minor": 5
}
